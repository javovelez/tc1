{
 "cells": [
  {
   "cell_type": "code",
   "execution_count": 1,
   "metadata": {},
   "outputs": [
    {
     "data": {
      "text/plain": [
       "array([[ 3.+1.j, -1.+0.j, -1.+0.j],\n",
       "       [-1.+0.j,  3.-1.j, -1.+1.j],\n",
       "       [-1.+0.j, -1.+1.j,  2.-1.j]])"
      ]
     },
     "execution_count": 1,
     "metadata": {},
     "output_type": "execute_result"
    }
   ],
   "source": [
    "import numpy as np\n",
    "V3=1\n",
    "a = np.array([[ (3 + 1j) , -1        , -1         ],\n",
    "              [ -1       , (3 - 1j)  , (-1 + 1j)  ],\n",
    "              [ -1       , (-1 + 1j) , (2 - 1j)   ]])\n",
    "\n",
    "a\n"
   ]
  },
  {
   "cell_type": "code",
   "execution_count": 2,
   "metadata": {},
   "outputs": [
    {
     "data": {
      "text/plain": [
       "array([0, 0, 1])"
      ]
     },
     "execution_count": 2,
     "metadata": {},
     "output_type": "execute_result"
    }
   ],
   "source": [
    "b = np.array([  0,  0,  V3])\n",
    "b"
   ]
  },
  {
   "cell_type": "code",
   "execution_count": 3,
   "metadata": {},
   "outputs": [],
   "source": [
    "I1, I2, I3 = np.linalg.solve(a,b)"
   ]
  },
  {
   "cell_type": "code",
   "execution_count": 4,
   "metadata": {},
   "outputs": [
    {
     "data": {
      "text/plain": [
       "(0.8181818181818181+7.432071487160137e-17j)"
      ]
     },
     "execution_count": 4,
     "metadata": {},
     "output_type": "execute_result"
    }
   ],
   "source": [
    "I3"
   ]
  },
  {
   "cell_type": "code",
   "execution_count": 5,
   "metadata": {},
   "outputs": [
    {
     "data": {
      "text/plain": [
       "(1.2222222222222223-1.1102230246251565e-16j)"
      ]
     },
     "execution_count": 5,
     "metadata": {},
     "output_type": "execute_result"
    }
   ],
   "source": [
    "Z=V3/I3\n",
    "Z"
   ]
  },
  {
   "cell_type": "code",
   "execution_count": 6,
   "metadata": {},
   "outputs": [
    {
     "data": {
      "text/plain": [
       "(1.222222222222222-1.1102230246251565e-16j)"
      ]
     },
     "execution_count": 6,
     "metadata": {},
     "output_type": "execute_result"
    }
   ],
   "source": [
    "c = np.array([[ (3 + 1j) , -1        ,   0  ],\n",
    "              [ -1       , (3 - 1j)  ,   0  ],\n",
    "              [ -1       , (-1 + 1j) ,  V3  ]])\n",
    "delta=np.linalg.det(a)\n",
    "detI3=np.linalg.det(c)\n",
    "I3b=detI3/delta\n",
    "Z=V3/I3b\n",
    "Z"
   ]
  },
  {
   "cell_type": "code",
   "execution_count": 4,
   "metadata": {},
   "outputs": [
    {
     "data": {
      "text/plain": [
       "(2160.0000000000027-2880.000000000003j)"
      ]
     },
     "execution_count": 4,
     "metadata": {},
     "output_type": "execute_result"
    }
   ],
   "source": [
    "import numpy as np\n",
    "\n",
    "\n",
    "a = np.array([[72 ,  -60 ],\n",
    "            [ 540 ,  (-420 - 40j) ]])\n",
    "\n",
    "b = np.array([  -180,  180])\n",
    "delta=np.linalg.det(a)\n",
    "\n",
    "I1, I2= np.linalg.solve(a,b)\n",
    "delta"
   ]
  },
  {
   "cell_type": "code",
   "execution_count": 8,
   "metadata": {},
   "outputs": [
    {
     "data": {
      "text/plain": [
       "(5539.200000000001+5385.599999999999j)"
      ]
     },
     "execution_count": 8,
     "metadata": {},
     "output_type": "execute_result"
    }
   ],
   "source": [
    "Vth=I2 * 120- (I1-I2)*600\n",
    "Vth"
   ]
  },
  {
   "cell_type": "code",
   "execution_count": 9,
   "metadata": {},
   "outputs": [
    {
     "data": {
      "text/plain": [
       "(0.3-0.09999999999999999j)"
      ]
     },
     "execution_count": 9,
     "metadata": {},
     "output_type": "execute_result"
    }
   ],
   "source": [
    "1/(3+ 1j)"
   ]
  },
  {
   "cell_type": "code",
   "execution_count": 2,
   "metadata": {},
   "outputs": [
    {
     "data": {
      "image/png": "[encoded data removed]"
     },
     "metadata": {
      "image/png": {
       "height": 280,
       "width": 504
      }
     },
     "output_type": "display_data"
    }
   ],
   "source": [
    "#\n",
    "from lcapy import *\n",
    "\n",
    "cej11=Circuit()\n",
    "cej11.add(\"\"\"\n",
    "WV1  _1  0             ; down,   \n",
    "R1  _1  _2   12        ; right=1.5 , l={$12\\Omega$}\n",
    "R2  _2  _0b  60        ; down=2    , l={$60\\Omega$},v={$V_s$}\n",
    "W1  _0b 0              ; left\n",
    "C1  _2  _3   40        ; right     , l={$-j40\\Omega$} \n",
    "R3  _3  _4b   120       ; down      , l={$120\\Omega$}\n",
    "E1  _4  _0c  _2 _0b 10 ; down      , l=10 V_{s}\n",
    "W2  _0c _0b            ; left\n",
    "W3  _3  A              ; right\n",
    "W4  _0c B              ; right\n",
    "W5  _4b _4             ; down=0.1\n",
    "Vx A B                 ;down , i={I_x}\n",
    "\"\"\") \n",
    "cej11.draw()"
   ]
  },
  {
   "cell_type": "code",
   "execution_count": 44,
   "metadata": {},
   "outputs": [
    {
     "data": {
      "text/plain": [
       "(-7.333333333333333-12j)"
      ]
     },
     "execution_count": 44,
     "metadata": {},
     "output_type": "execute_result"
    }
   ],
   "source": [
    "import math\n",
    "delta=72*(-420-40j)+540*60\n",
    "deltaI2=-540*120\n",
    "I2=deltaI2/delta\n",
    "deltaI1=120*(-420-40j)\n",
    "I1=deltaI1/delta\n",
    "Vth=I2*120+600*I1-600*I2\n",
    "abs(Vth)\n",
    "math.degrees(math.atan(Vth.imag/Vth.real))\n",
    "I1"
   ]
  },
  {
   "cell_type": "code",
   "execution_count": 7,
   "metadata": {},
   "outputs": [
    {
     "data": {
      "text/plain": [
       "(120.00000000000003-59.99999999999996j)"
      ]
     },
     "execution_count": 7,
     "metadata": {},
     "output_type": "execute_result"
    }
   ],
   "source": [
    "import numpy as np\n",
    "mdelta=[[72, -60, 0], [540, (-450-40j), -120],[-600, 480, 120]]\n",
    "delta=np.linalg.det(mdelta)\n",
    "Vx=1000\n",
    "mdeltaI3=[[72, -60, 0], [540, (-450-40j), 0],[-600, 480, -Vx]]\n",
    "deltaI3=np.linalg.det(mdeltaI3)\n",
    "I3=deltaI3/delta\n",
    "\n",
    "mresult=[0, 0, -Vx]\n",
    "sol=np.linalg.solve(mdelta, mresult)\n",
    "Vx/I3\n",
    "Vx/-sol[-1]\n"
   ]
  },
  {
   "cell_type": "code",
   "execution_count": 26,
   "metadata": {},
   "outputs": [
    {
     "data": {
      "text/plain": [
       "(18.81081081081081-31.13513513513513j)"
      ]
     },
     "execution_count": 26,
     "metadata": {},
     "output_type": "execute_result"
    }
   ],
   "source": [
    "(((1/(1/12+1/60))-40j)*120)/(((1/(1/12+1/60))-40j)+120)"
   ]
  },
  {
   "cell_type": "code",
   "execution_count": null,
   "metadata": {},
   "outputs": [],
   "source": [
    "\n"
   ]
  },
  {
   "cell_type": "code",
   "execution_count": null,
   "metadata": {},
   "outputs": [],
   "source": []
  },
  {
   "cell_type": "code",
   "execution_count": null,
   "metadata": {},
   "outputs": [],
   "source": []
  },
  {
   "cell_type": "code",
   "execution_count": null,
   "metadata": {},
   "outputs": [],
   "source": []
  },
  {
   "cell_type": "code",
   "execution_count": null,
   "metadata": {},
   "outputs": [],
   "source": []
  },
  {
   "cell_type": "code",
   "execution_count": null,
   "metadata": {},
   "outputs": [],
   "source": []
  },
  {
   "cell_type": "code",
   "execution_count": null,
   "metadata": {},
   "outputs": [],
   "source": []
  }
 ],
 "metadata": {
  "hide_input": false,
  "kernelspec": {
   "display_name": "Python 3",
   "language": "python",
   "name": "python3"
  },
  "language_info": {
   "codemirror_mode": {
    "name": "ipython",
    "version": 3
   },
   "file_extension": ".py",
   "mimetype": "text/x-python",
   "name": "python",
   "nbconvert_exporter": "python",
   "pygments_lexer": "ipython3",
   "version": "3.6.9"
  }
 },
 "nbformat": 4,
 "nbformat_minor": 4
}
