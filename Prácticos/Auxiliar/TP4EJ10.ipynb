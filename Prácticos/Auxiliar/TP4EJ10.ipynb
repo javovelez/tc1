{
 "cells": [
  {
   "cell_type": "markdown",
   "metadata": {},
   "source": [
    "$\\left.\\frac{dv_C(t)}{dt}\\right|_{t=0}=\\frac{i_C(0)}{C}$\n",
    "\n",
    "$i_C(0)=-6,4mA-\\frac{100V}{31250\\Omega}=-9,6mA$ Observar que dada la polaridad del capacitor en el esquemático del enunciado, la corriente se debería definir hacia abajo por convención de signos. Planteando una ecuación de nodo podés ver que las corrientes en el inductor y en la resistencia aportan a la corriente del cacapcitor en sentido contrario al definido por la convención de signos. \n",
    "\n",
    "$\\frac{i_C(0)}{C}=3\\times10^6$\n",
    "\n",
    "La constante entonces queda $A_2=3\\times10^9\\frac{V}{s}-100V\\times5000\\frac{1}{s}=2,5\\times10^6\\frac{V}{s}$"
   ]
  }
 ],
 "metadata": {
  "kernelspec": {
   "display_name": "Python 3",
   "language": "python",
   "name": "python3"
  },
  "language_info": {
   "codemirror_mode": {
    "name": "ipython",
    "version": 3
   },
   "file_extension": ".py",
   "mimetype": "text/x-python",
   "name": "python",
   "nbconvert_exporter": "python",
   "pygments_lexer": "ipython3",
   "version": "3.7.7"
  }
 },
 "nbformat": 4,
 "nbformat_minor": 4
}
