{
 "cells": [
  {
   "cell_type": "code",
   "execution_count": 8,
   "metadata": {},
   "outputs": [
    {
     "data": {
      "image/png": "[encoded data removed]"
     },
     "metadata": {
      "image/png": {
       "height": 146,
       "width": 500
      }
     },
     "output_type": "display_data"
    }
   ],
   "source": [
    "#\n",
    "import lcapy as ly\n",
    "\n",
    "ej1=ly.Circuit()\n",
    "ej1.add(\"\"\"\n",
    "V1 _1 _0 ; down, l_={$v(t)$}\n",
    "R _1 _2 ; right\n",
    "C1 _2 _3; right, \n",
    "L _3 _0c; right\n",
    "C2 _0c _0b; down\n",
    "W2 _0b _0; left\n",
    "\"\"\")\n",
    "ej1.draw()\n"
   ]
  },
  {
   "cell_type": "code",
   "execution_count": 2,
   "metadata": {},
   "outputs": [
    {
     "data": {
      "text/plain": [
       "array([1.25e-06, 1.20e-06, 1.50e-06, 2.00e-06, 1.10e-06])"
      ]
     },
     "execution_count": 2,
     "metadata": {},
     "output_type": "execute_result"
    }
   ],
   "source": [
    "import numpy as np\n",
    "w0=np.array([500, 200, 4000, 2000, 1000])\n",
    "w02=np.power(w0,2)\n",
    "V=np.array([110, 120, 160, 80, 100])\n",
    "C=1e-6\n",
    "L=1/(w02*C)\n",
    "#1/c=1/c1+1/c2=> 1/c2=1/c-1/c1=> c1-c/(c1xc)\n",
    "c1=np.array([5e-6,6e-6,3e-6,2e-6,11e-6])\n",
    "c2=np.divide(c1*C,c1-C)\n",
    "c2"
   ]
  },
  {
   "cell_type": "markdown",
   "metadata": {},
   "source": [
    "1) $R=11\\Omega$; $C_1=5\\mu F$; $L=4Hy$; $C_2=1,25\\mu F$, $\\vec{V}=110/\\underline{0}^\\circ V$\n",
    "\n",
    "2) $R=60\\Omega$; $C_1=6\\mu F$; $L=25Hy$; $C_2=1,2\\mu F$, $\\vec{V}=120/\\underline{0}^\\circ V$\n",
    "\n",
    "3) $R=40\\Omega$; $C_1=3 \\mu F$; $L=62.5mHy$; $C_2=1.5\\mu F$, $\\vec{V}=160/\\underline{0}^\\circ V$\n",
    "\n",
    "4) $R=10\\Omega$; $C_1=2 \\mu F$; $L=250mHy$; $C_2=2\\mu F$, $\\vec{V}=80/\\underline{0}^\\circ V$\n",
    "\n",
    "5) $R=50\\Omega$; $C_1=11 \\mu F$; $L=1 Hy$; $C_2=1,1\\mu F$, $\\vec{V}=100/\\underline{0}^\\circ V$"
   ]
  },
  {
   "cell_type": "code",
   "execution_count": 7,
   "metadata": {
    "code_folding": [
     0
    ]
   },
   "outputs": [
    {
     "data": {
      "image/png": "[encoded data removed]"
     },
     "metadata": {
      "image/png": {
       "height": 119,
       "width": 599
      }
     },
     "output_type": "display_data"
    }
   ],
   "source": [
    "#\n",
    "import lcapy as ly\n",
    "\n",
    "ej2=ly.Circuit()\n",
    "ej2.add(\"\"\"\n",
    "I1 _1 _0 ; down, l^={$i(t)$}\n",
    "W1 _1 _1b; right\n",
    "W2 _0 _0b; right\n",
    "R _1b _0b ; down\n",
    "W3 _1b _1c; riht\n",
    "W4 _0b _0c; right \n",
    "L1 _1c _0c; down\n",
    "W5 _1c _1d; riht\n",
    "W6 _0c _0d; right \n",
    "C _1d _0d; down\n",
    "W7 _1d _1e; riht\n",
    "W8 _0d _0e; right \n",
    "L2 _1e _0e; down\n",
    "\"\"\")\n",
    "\n",
    "ej2.draw()\n"
   ]
  },
  {
   "cell_type": "code",
   "execution_count": 7,
   "metadata": {},
   "outputs": [
    {
     "data": {
      "text/plain": [
       "(array([5.0e-06, 6.0e-06, 3.0e-06, 2.0e-06, 1.1e-05]),\n",
       " array([-5.00000625e-06, -6.00000144e-06, -3.00014401e-06, -2.00001600e-06,\n",
       "        -1.10001210e-05]),\n",
       " array([ 4.    , 25.    ,  0.0625,  0.25  ,  1.    ]))"
      ]
     },
     "execution_count": 7,
     "metadata": {},
     "output_type": "execute_result"
    }
   ],
   "source": [
    "import numpy as np\n",
    "w0=np.array([500, 200, 4000, 2000, 1000])\n",
    "w02=np.power(w0,2)\n",
    "I=np.array([110, 120, 160, 80, 100])\n",
    "L=1e-6\n",
    "C=1/(w02*C)\n",
    "#1/c=1/c1+1/c2=> 1/c2=1/c-1/c1=> c1-c/(c1xc)\n",
    "L1=np.array([5e-6,6e-6,3e-6,2e-6,11e-6])\n",
    "L2=np.divide(c1*C,c1-C)\n",
    "L1, L2, C"
   ]
  },
  {
   "cell_type": "markdown",
   "metadata": {},
   "source": [
    "1) $R=20\\Omega$; $L_1=5\\mu Hy$; $C=4F$; $L_2=1,25\\mu Hy$, $\\vec{I}=1/\\underline{0}^\\circ A$\n",
    "\n",
    "2) $R=30\\Omega$; $L_1=6\\mu Hy$; $C=25F$; $L_2=1,2\\mu Hy$, $\\vec{I}=200mA/\\underline{0}^\\circ A$\n",
    "\n",
    "3) $R=40\\Omega$; $L_1=3 \\mu Hy$; $C=62.5mF$; $L_2=1.5\\mu Hy$, $\\vec{I}=50mA/\\underline{0}^\\circ A$\n",
    "\n",
    "4) $R=10\\Omega$; $L_1=2 \\mu Hy$; $C=250mF$; $L_2=2\\mu Hy$, $\\vec{I}=200mA/\\underline{0}^\\circ A$\n",
    "\n",
    "5) $R=50\\Omega$; $L_1=11 \\mu Hy$; $C=1F$; $L_2=1,1\\mu Hy$, $\\vec{I}=100mA/\\underline{0}^\\circ A$"
   ]
  },
  {
   "cell_type": "code",
   "execution_count": null,
   "metadata": {},
   "outputs": [],
   "source": []
  }
 ],
 "metadata": {
  "kernelspec": {
   "display_name": "Python 3",
   "language": "python",
   "name": "python3"
  },
  "language_info": {
   "codemirror_mode": {
    "name": "ipython",
    "version": 3
   },
   "file_extension": ".py",
   "mimetype": "text/x-python",
   "name": "python",
   "nbconvert_exporter": "python",
   "pygments_lexer": "ipython3",
   "version": "3.7.7"
  }
 },
 "nbformat": 4,
 "nbformat_minor": 4
}
