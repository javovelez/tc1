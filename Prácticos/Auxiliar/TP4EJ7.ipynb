{
 "cells": [
  {
   "cell_type": "markdown",
   "metadata": {},
   "source": [
    "# Ejercicio 7\n",
    "\n",
    "En el circuito de la figura, en t = 0 el interruptor cambia de la posición b a la a. Calcular:\n",
    "\n",
    "a) $i(t)$ \n",
    "\n",
    "b) $v_1(t)$ \n",
    "\n",
    "c) $v2(t)$ \n",
    "\n",
    "d) La energía almacenada en el condensador $C_1$ en $t = 0$"
   ]
  },
  {
   "cell_type": "code",
   "execution_count": 10,
   "metadata": {
    "code_folding": []
   },
   "outputs": [
    {
     "data": {
      "image/png": "[encoded data removed]"
     },
     "metadata": {
      "image/png": {
       "height": 222,
       "width": 427
      }
     },
     "output_type": "display_data"
    }
   ],
   "source": [
    "#\n",
    "import lcapy as ly\n",
    "\n",
    "c1=ly.Circuit()\n",
    "c1.add(\"\"\"\n",
    "BAT _1 _0; down=1.6, kind=cell1,  l={$75V$}\n",
    "R1 _1 a ; right, l={$4.7\\Omega$}\n",
    "SW _3 a b spdt; up, l={$S$}\n",
    "C1 _3 _0b 2e-6; down, \n",
    "W1 _0b _0; left\n",
    "R2  b _2b; right, l={$5K \\Omega$}\n",
    "C2 _2b _4c 8e-6; down,  \n",
    "W9= _4c _0b;left\n",
    "\"\"\")\n",
    "\n",
    "c1.draw()"
   ]
  },
  {
   "cell_type": "markdown",
   "metadata": {},
   "source": [
    "Mientras el interruptor se encuentra conectado en el contacto $a$ sabemos que la sección izquierda del circuito se encuentra en régimen permanente. Esto significa que el capacitor se comporta como un circuito abierto y su tensión es $V_0=75V$.\n",
    "\n",
    "Al conmutar el interruptor en el momento $t=0$ comienza el transitorio. \n",
    "\n",
    "Planteamos la ley de Kirchhoff de las tensiones:\n",
    "\n",
    "$-v_{c1}+v_{R}+v_{c2}=0$\n",
    "\n",
    " $\\frac{1}{C1}\\int i(t) dt+i(t)R+ \\frac{1}{C2}\\int i(t) dt=0$ (el cambio de signo del primer terérmino se debe a la convención de signos)\n",
    " \n",
    " Y derivando respecto del tiempo:\n",
    " \n",
    "  $\\frac{1}{C1} i(t)+\\frac{di(t)}{dt}R+ \\frac{1}{C2} i(t)=0$\n",
    "  \n",
    "  Agrupando:\n",
    "  \n",
    "  $(\\frac{1}{C1}+\\frac{1}{C2})i(t)+\\frac{di(t)}{dt}R=0$\n",
    " \n",
    " La solución a esta ecuación diferencial tiene la forma:\n",
    " \n",
    "$i(t)=Ae^{Dt}+B$  $(1)$\n",
    "\n",
    "Y para obtener D podemos utilizar por ejemplo el método del operador diferencial:\n",
    "\n",
    "  $(\\frac{1}{C1}+\\frac{1}{C2})+DR=0$\n",
    "  \n",
    "  Y por lo tanto $D=\\frac{-1}{\\frac{C_1 \\times C2}{C1+C2}R}=-125\\frac{1}{s}$.\n",
    "  \n",
    "Podemos saber que la constante B va a valer $0$ ya que para $t=\\infty$ ambos capacitores serán un circuito abierto por lo que la corriente en estado estacionario será $i(\\infty)=0$.\n",
    "\n",
    "Para calcular la constante $A$ denbemos dibujar el circuito para $t=0$\n"
   ]
  },
  {
   "cell_type": "code",
   "execution_count": 10,
   "metadata": {
    "code_folding": [
     0
    ]
   },
   "outputs": [
    {
     "data": {
      "image/png": "[encoded data removed]"
     },
     "metadata": {
      "image/png": {
       "height": 204,
       "width": 205
      }
     },
     "output_type": "display_data"
    }
   ],
   "source": [
    "#\n",
    "import lcapy as ly\n",
    "\n",
    "c3=ly.Circuit()\n",
    "c3.add(\"\"\"\n",
    "\n",
    "V  _3 _0b  4; down=1.6, l={$75V$}, f<^={$i(0)$}\n",
    "R  _3 _2b; right=1.5,  l={$5K \\Omega$}\n",
    "W8= _2b _4d; down\n",
    "W9= _4d _0b;left\n",
    "\"\"\")\n",
    "\n",
    "c3.draw()"
   ]
  },
  {
   "cell_type": "markdown",
   "metadata": {},
   "source": [
    "Vemos en el circuito que $i(0)=15mA$ y analizando la ecuación $(1)$ $i(0)=A=15mA$ (ya que observamos previamente que $B=0$)\n"
   ]
  },
  {
   "cell_type": "markdown",
   "metadata": {},
   "source": [
    "Para obtener la tensión $v_{C1}(t)$, utilizamos la relación Volt-Ampere del capacitor:\n",
    "\n",
    "$v_{C1}(t)=-\\frac{1}{C1}\\int i(t) dt=- \\frac{1}{2\\mu F}\\int 15mA\\times e^{-125t} dt$ (el signo menos es debido a que el sentido de la corriente es opuesto la polaridad del elemento según la convensión de signos)\n",
    "\n",
    "$v_{C1}(t)=60e^{-125t}V+C$\n",
    "\n",
    "Ahora debemos encontrar C analizando nuevamente el circuito para $t=0$\n",
    "\n",
    "$v_{C1}(0)=75V= 60e^{0}V+C$\n",
    "\n",
    "C=15V\n",
    "\n",
    "$v_{C1}(t)=60e^{-125t}V+15V$\n",
    "\n",
    "Para calcular $v_{C2}$ podemos tamar el mismo camino o simplemente calcular a partir de la ley de las tensiones de Kirchhoff \n",
    "\n",
    "$v_{C2}(t)=v_{C1}(t)-i(t)R$"
   ]
  }
 ],
 "metadata": {
  "kernelspec": {
   "display_name": "Python 3",
   "language": "python",
   "name": "python3"
  },
  "language_info": {
   "codemirror_mode": {
    "name": "ipython",
    "version": 3
   },
   "file_extension": ".py",
   "mimetype": "text/x-python",
   "name": "python",
   "nbconvert_exporter": "python",
   "pygments_lexer": "ipython3",
   "version": "3.7.7"
  }
 },
 "nbformat": 4,
 "nbformat_minor": 4
}
