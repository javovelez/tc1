{
 "cells": [
  {
   "cell_type": "markdown",
   "metadata": {
    "ExecuteTime": {
     "end_time": "2020-06-14T21:50:21.632615Z",
     "start_time": "2020-06-14T21:50:21.625514Z"
    }
   },
   "source": [
    "Ejercicio 1"
   ]
  },
  {
   "cell_type": "code",
   "execution_count": 1,
   "metadata": {
    "ExecuteTime": {
     "end_time": "2020-06-14T21:47:17.849991Z",
     "start_time": "2020-06-14T21:47:17.289242Z"
    }
   },
   "outputs": [],
   "source": [
    "import sympy as sp\n",
    "\n",
    "Ya , Yb, Yc, V1, V2 = sp.symbols('Ya Yb Yc V1 V2')"
   ]
  },
  {
   "cell_type": "code",
   "execution_count": 11,
   "metadata": {
    "ExecuteTime": {
     "end_time": "2020-06-14T21:50:52.767310Z",
     "start_time": "2020-06-14T21:50:52.762015Z"
    }
   },
   "outputs": [],
   "source": [
    "I1=V1*(Ya+Yb)-V2*Yb\n",
    "I2=-V1*(Yb)+V2*(Yb+Yc)\n"
   ]
  },
  {
   "cell_type": "code",
   "execution_count": 3,
   "metadata": {
    "ExecuteTime": {
     "end_time": "2020-06-14T21:47:22.257893Z",
     "start_time": "2020-06-14T21:47:22.234230Z"
    }
   },
   "outputs": [
    {
     "data": {
      "text/latex": [
       "$\\displaystyle Ya + Yb$"
      ],
      "text/plain": [
       "Ya + Yb"
      ]
     },
     "execution_count": 3,
     "metadata": {},
     "output_type": "execute_result"
    }
   ],
   "source": [
    "(I1.subs(V2,0))/V1"
   ]
  },
  {
   "cell_type": "code",
   "execution_count": 4,
   "metadata": {
    "ExecuteTime": {
     "end_time": "2020-06-14T21:47:46.348148Z",
     "start_time": "2020-06-14T21:47:46.042278Z"
    }
   },
   "outputs": [
    {
     "data": {
      "text/latex": [
       "$\\displaystyle - Yb$"
      ],
      "text/plain": [
       "-Yb"
      ]
     },
     "execution_count": 4,
     "metadata": {},
     "output_type": "execute_result"
    }
   ],
   "source": [
    "(I2.subs(V2,0))/V1"
   ]
  },
  {
   "cell_type": "code",
   "execution_count": 7,
   "metadata": {
    "ExecuteTime": {
     "end_time": "2020-06-14T21:49:07.954032Z",
     "start_time": "2020-06-14T21:49:07.945843Z"
    }
   },
   "outputs": [
    {
     "data": {
      "text/latex": [
       "$\\displaystyle - Yb$"
      ],
      "text/plain": [
       "-Yb"
      ]
     },
     "execution_count": 7,
     "metadata": {},
     "output_type": "execute_result"
    }
   ],
   "source": [
    "(I1.subs(V1,0))/V2"
   ]
  },
  {
   "cell_type": "code",
   "execution_count": 8,
   "metadata": {
    "ExecuteTime": {
     "end_time": "2020-06-14T21:49:53.380382Z",
     "start_time": "2020-06-14T21:49:53.369590Z"
    }
   },
   "outputs": [
    {
     "data": {
      "text/latex": [
       "$\\displaystyle Yb + Yc$"
      ],
      "text/plain": [
       "Yb + Yc"
      ]
     },
     "execution_count": 8,
     "metadata": {},
     "output_type": "execute_result"
    }
   ],
   "source": [
    "(I2.subs(V1,0))/V2"
   ]
  },
  {
   "cell_type": "markdown",
   "metadata": {},
   "source": [
    "Ejercicio 2"
   ]
  },
  {
   "cell_type": "code",
   "execution_count": 1,
   "metadata": {
    "ExecuteTime": {
     "end_time": "2020-06-14T23:11:23.992132Z",
     "start_time": "2020-06-14T23:11:23.311352Z"
    }
   },
   "outputs": [],
   "source": [
    "import sympy as sp\n",
    "\n",
    "Ya , Yb, Yc, V1, V2,I1, I2 = sp.symbols('Ya Yb Yc V1 V2 I1 I2')"
   ]
  },
  {
   "cell_type": "code",
   "execution_count": 2,
   "metadata": {
    "ExecuteTime": {
     "end_time": "2020-06-14T23:11:39.379383Z",
     "start_time": "2020-06-14T23:11:38.558525Z"
    }
   },
   "outputs": [],
   "source": [
    "a=sp.solve([V1*(Ya+Yb)-V2*Yb-I1,-V1*(Yb)+V2*(Yb+Yc)-I2],(V1,V2))"
   ]
  },
  {
   "cell_type": "code",
   "execution_count": 3,
   "metadata": {
    "ExecuteTime": {
     "end_time": "2020-06-14T23:12:11.235533Z",
     "start_time": "2020-06-14T23:12:11.206050Z"
    }
   },
   "outputs": [
    {
     "data": {
      "text/plain": [
       "(-(Yb + Yc)/(Yb**2 - (Ya + Yb)*(Yb + Yc)), -Yb/(Yb**2 - (Ya + Yb)*(Yb + Yc)))"
      ]
     },
     "execution_count": 3,
     "metadata": {},
     "output_type": "execute_result"
    }
   ],
   "source": [
    "a[V1].subs(I2,0)/I1, a[V2].subs(I2,0)/I1"
   ]
  },
  {
   "cell_type": "code",
   "execution_count": 10,
   "metadata": {
    "ExecuteTime": {
     "end_time": "2020-06-14T22:30:37.970646Z",
     "start_time": "2020-06-14T22:30:37.822007Z"
    }
   },
   "outputs": [],
   "source": [
    "b=sp.solve([V1*(Ya+Yb)-V2*Yb,-V1*(Yb)+V2*(Yb+Yc)-I2],(V1,V2))"
   ]
  },
  {
   "cell_type": "code",
   "execution_count": 12,
   "metadata": {
    "ExecuteTime": {
     "end_time": "2020-06-14T22:31:00.735554Z",
     "start_time": "2020-06-14T22:31:00.725727Z"
    }
   },
   "outputs": [
    {
     "data": {
      "text/plain": [
       "((Yb + Yc)/(Ya*Yb + Ya*Yc + Yb*Yc), Yb/(Ya*Yb + Ya*Yc + Yb*Yc))"
      ]
     },
     "execution_count": 12,
     "metadata": {},
     "output_type": "execute_result"
    }
   ],
   "source": [
    "a[V1]/I1, a[V2]/I1"
   ]
  },
  {
   "cell_type": "markdown",
   "metadata": {},
   "source": [
    "Ejercicio 3"
   ]
  },
  {
   "cell_type": "code",
   "execution_count": 1,
   "metadata": {
    "ExecuteTime": {
     "end_time": "2020-06-14T22:57:12.078324Z",
     "start_time": "2020-06-14T22:57:11.632961Z"
    }
   },
   "outputs": [],
   "source": [
    "import sympy as sp\n",
    "\n",
    "Za , Zb, Zc, I1, I2 = sp.symbols('Za Zb Zc I1 I2')"
   ]
  },
  {
   "cell_type": "code",
   "execution_count": 5,
   "metadata": {
    "ExecuteTime": {
     "end_time": "2020-06-14T23:01:05.990325Z",
     "start_time": "2020-06-14T23:01:05.983760Z"
    }
   },
   "outputs": [],
   "source": [
    "V1=I1*(Za+Zb)-I2*(Zb)\n",
    "V2=(-I1*(Zb)+I2*(Zb+Zc))"
   ]
  },
  {
   "cell_type": "code",
   "execution_count": 7,
   "metadata": {
    "ExecuteTime": {
     "end_time": "2020-06-14T23:05:00.728440Z",
     "start_time": "2020-06-14T23:05:00.719740Z"
    }
   },
   "outputs": [
    {
     "data": {
      "text/latex": [
       "$\\displaystyle - Zb$"
      ],
      "text/plain": [
       "-Zb"
      ]
     },
     "execution_count": 7,
     "metadata": {},
     "output_type": "execute_result"
    }
   ],
   "source": [
    "V1.subs(I2,0)/I1\n",
    "V2.subs(I2,0)/I1"
   ]
  },
  {
   "cell_type": "code",
   "execution_count": 2,
   "metadata": {
    "ExecuteTime": {
     "end_time": "2020-06-14T22:53:22.825438Z",
     "start_time": "2020-06-14T22:53:22.738785Z"
    }
   },
   "outputs": [],
   "source": [
    "eq1=-V1+I1*(Za+Zb)-I2*(Zb)\n",
    "eq2=V2-I1*(Zb)+I2*(Zb+Zc)"
   ]
  },
  {
   "cell_type": "code",
   "execution_count": 3,
   "metadata": {
    "ExecuteTime": {
     "end_time": "2020-06-14T22:53:27.866629Z",
     "start_time": "2020-06-14T22:53:27.345333Z"
    }
   },
   "outputs": [],
   "source": [
    "a=sp.solve([eq1,eq2],(I1,I2))\n"
   ]
  },
  {
   "cell_type": "code",
   "execution_count": 4,
   "metadata": {
    "ExecuteTime": {
     "end_time": "2020-06-14T22:53:28.536517Z",
     "start_time": "2020-06-14T22:53:28.514429Z"
    }
   },
   "outputs": [
    {
     "data": {
      "text/plain": [
       "{I1: (-V1*(Zb + Zc) + V2*Zb)/(Zb**2 - (Za + Zb)*(Zb + Zc)),\n",
       " I2: (-V1*Zb + V2*(Za + Zb))/(Zb**2 - (Za + Zb)*(Zb + Zc))}"
      ]
     },
     "execution_count": 4,
     "metadata": {},
     "output_type": "execute_result"
    }
   ],
   "source": [
    "a"
   ]
  },
  {
   "cell_type": "code",
   "execution_count": 7,
   "metadata": {
    "ExecuteTime": {
     "end_time": "2020-06-14T22:53:51.150934Z",
     "start_time": "2020-06-14T22:53:51.106303Z"
    }
   },
   "outputs": [
    {
     "data": {
      "text/latex": [
       "$\\displaystyle \\frac{Za Zb}{Zc} + Za + Zb$"
      ],
      "text/plain": [
       "Za*Zb/Zc + Za + Zb"
      ]
     },
     "execution_count": 7,
     "metadata": {},
     "output_type": "execute_result"
    }
   ],
   "source": [
    "(1/a[I1].subs(V1,1).subs(V2,1)).simplify()"
   ]
  },
  {
   "cell_type": "code",
   "execution_count": null,
   "metadata": {},
   "outputs": [],
   "source": []
  }
 ],
 "metadata": {
  "hide_input": false,
  "kernelspec": {
   "display_name": "Python 3",
   "language": "python",
   "name": "python3"
  },
  "language_info": {
   "codemirror_mode": {
    "name": "ipython",
    "version": 3
   },
   "file_extension": ".py",
   "mimetype": "text/x-python",
   "name": "python",
   "nbconvert_exporter": "python",
   "pygments_lexer": "ipython3",
   "version": "3.6.9"
  }
 },
 "nbformat": 4,
 "nbformat_minor": 4
}
