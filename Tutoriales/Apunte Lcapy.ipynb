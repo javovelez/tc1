{
 "cells": [
  {
   "cell_type": "markdown",
   "metadata": {},
   "source": [
    "# Lcapy\n",
    "## Introducción\n",
    "Lcapy es un paquete de Python para análisis de circuitos lineales. Solo resolverá redes lineales invariantes en el tiempo. En otras palabras, redes compuestas de componentes de circuitos básicos (R, L, C, etc.) que no varían con el tiempo.\n",
    "\n",
    "Las redes y los circuitos se pueden describir utilizando netlists o combinaciones de elementos de red. Estos se pueden dibujar semiautomáticamente.\n",
    "\n",
    "Además de realizar análisis de circuitos, Lcapy puede generar los sistemas de ecuaciones para el análisis nodal modificado y el análisis del espacio de estados.\n",
    "\n",
    "Lcapy no puede analizar directamente dispositivos no lineales como diodos o transistores, aunque admite opamps simples sin saturación. ¡Sin embargo, puede dibujarlos!\n",
    "\n",
    "Lcapy utiliza SymPy (Python simbólico) para sus valores y expresiones y, por lo tanto, el análisis del circuito se puede realizar simbólicamente. Consulte http://docs.sympy.org/latest/tutorial/index.html para ver el tutorial de SymPy."
   ]
  },
  {
   "cell_type": "markdown",
   "metadata": {},
   "source": [
    "## Convenciones\n",
    "Lcapy utiliza la convención de signos pasivos. Así, para un dispositivo pasivo (R, L, C), la corriente ingresa por el nodo positivo, y para una fuente (V, I), la corriente sale del nodo positivo.\n",
    "\n",
    "<img src=\"VIRLC.png\">"
   ]
  },
  {
   "cell_type": "markdown",
   "metadata": {},
   "source": [
    "# Expreciones\n",
    "Lcapy define una serie de símbolos correspondientes a diferentes dominios:\n",
    "\n",
    "* t - tiempo (real)\n",
    "* f - frecuencia (real)\n",
    "* s - frecuencia compleja (dominio s)\n",
    "* omega - frecuencia angular (real)\n",
    "\n",
    "Se pueden formar expresiones usando estos símbolos, por ejemplo, se puede crear una expresión de dominio de tiempo usando:"
   ]
  },
  {
   "cell_type": "code",
   "execution_count": 1,
   "metadata": {},
   "outputs": [],
   "source": [
    "from lcapy import t, delta, u\n",
    "v = 2 * t * u(t) + 3 + delta(t)\n",
    "i = 0 * t + 3"
   ]
  },
  {
   "cell_type": "markdown",
   "metadata": {},
   "source": [
    "y se puede crear una expresión de dominio s usando:"
   ]
  },
  {
   "cell_type": "code",
   "execution_count": 6,
   "metadata": {},
   "outputs": [
    {
     "data": {
      "text/latex": [
       "$$\\frac{s + 3}{s - 4}$$"
      ],
      "text/plain": [
       "s + 3\n",
       "─────\n",
       "s - 4"
      ]
     },
     "execution_count": 6,
     "metadata": {},
     "output_type": "execute_result"
    }
   ],
   "source": [
    "from lcapy import s, j, omega\n",
    "H = (s + 3) / (s - 4)\n",
    "H"
   ]
  },
  {
   "cell_type": "markdown",
   "metadata": {},
   "source": [
    "Para señales causales de estado estacionario, el dominio s se puede convertir al dominio de frecuencia angular sustituyendo "
   ]
  },
  {
   "cell_type": "code",
   "execution_count": 8,
   "metadata": {},
   "outputs": [
    {
     "data": {
      "text/latex": [
       "$$\\frac{\\mathrm{j} \\omega + 3}{\\mathrm{j} \\omega - 4}$$"
      ],
      "text/plain": [
       "ⅉ⋅ω + 3\n",
       "───────\n",
       "ⅉ⋅ω - 4"
      ]
     },
     "execution_count": 8,
     "metadata": {},
     "output_type": "execute_result"
    }
   ],
   "source": [
    "A = H(j * omega)\n",
    "A"
   ]
  },
  {
   "cell_type": "markdown",
   "metadata": {},
   "source": [
    "También tenga en cuenta que los números reales se aproximan por racionales.\n",
    "\n",
    "Las expresiones Lcapy tienen varios atributos, que incluyen:\n",
    "\n",
    "* numerator , N - numerador de función racional\n",
    "* denominator , D - denominador de la función racional\n",
    "* magnitude  - magnitud\n",
    "* angle  - ángulo\n",
    "* real - parte real\n",
    "* imag - parte imaginaria\n",
    "* conjugate - conjugado complejo\n",
    "* expr : la expresión subyacente de SymPy\n",
    "* val : la expresión evaluada como un valor de coma flotante (si es posible)\n",
    "\n",
    "y una serie de métodos genéricos que incluyen:\n",
    "\n",
    "* simplify () - intenta la simplificación simple de la expresión\n",
    "* racionalize_denominator () - multiplica numerador y denominador por conjugado complejo de denominador\n",
    "* divide_top_and_bottom (expr) : divide el numerador y el denominador entre expr .\n",
    "* multiply_top_and_bottom (expr) : multiplica el numerador y el denominador por expr .\n",
    "* evalúe () : evalúe en el vector especificado y devuelva el vector de coma flotante\n",
    "\n",
    "Aquí hay un ejemplo del uso de estos atributos y métodos:\n"
   ]
  },
  {
   "cell_type": "code",
   "execution_count": 13,
   "metadata": {},
   "outputs": [
    {
     "data": {
      "text/latex": [
       "$$\\frac{\\omega^{2} - 7 \\mathrm{j} \\omega - 12}{\\omega^{2} + 16}$$"
      ],
      "text/plain": [
       " 2             \n",
       "ω  - 7⋅ⅉ⋅ω - 12\n",
       "───────────────\n",
       "     2         \n",
       "    ω  + 16    "
      ]
     },
     "execution_count": 13,
     "metadata": {},
     "output_type": "execute_result"
    }
   ],
   "source": [
    "A.rationalize_denominator () \n"
   ]
  },
  {
   "cell_type": "code",
   "execution_count": 12,
   "metadata": {},
   "outputs": [
    {
     "data": {
      "text/latex": [
       "$$\\frac{\\omega^{2} - 12}{\\omega^{2} + 16}$$"
      ],
      "text/plain": [
       " 2     \n",
       "ω  - 12\n",
       "───────\n",
       " 2     \n",
       "ω  + 16"
      ]
     },
     "execution_count": 12,
     "metadata": {},
     "output_type": "execute_result"
    }
   ],
   "source": [
    "A.real "
   ]
  },
  {
   "cell_type": "code",
   "execution_count": 11,
   "metadata": {},
   "outputs": [
    {
     "data": {
      "text/latex": [
       "$$- \\frac{7 \\omega}{\\omega^{2} + 16}$$"
      ],
      "text/plain": [
       " -7⋅ω  \n",
       "───────\n",
       " 2     \n",
       "ω  + 16"
      ]
     },
     "execution_count": 11,
     "metadata": {},
     "output_type": "execute_result"
    }
   ],
   "source": [
    "A.imag"
   ]
  },
  {
   "cell_type": "code",
   "execution_count": 14,
   "metadata": {},
   "outputs": [
    {
     "data": {
      "text/latex": [
       "$$\\mathrm{j} \\omega + 3$$"
      ],
      "text/plain": [
       "ⅉ⋅ω + 3"
      ]
     },
     "execution_count": 14,
     "metadata": {},
     "output_type": "execute_result"
    }
   ],
   "source": [
    "A.N "
   ]
  },
  {
   "cell_type": "code",
   "execution_count": 15,
   "metadata": {},
   "outputs": [
    {
     "data": {
      "text/latex": [
       "$$\\mathrm{j} \\omega - 4$$"
      ],
      "text/plain": [
       "ⅉ⋅ω - 4"
      ]
     },
     "execution_count": 15,
     "metadata": {},
     "output_type": "execute_result"
    }
   ],
   "source": [
    " A . D "
   ]
  },
  {
   "cell_type": "code",
   "execution_count": 17,
   "metadata": {},
   "outputs": [
    {
     "data": {
      "text/latex": [
       "$$\\frac{\\sqrt{\\omega^{4} + 25 \\omega^{2} + 144}}{\\omega^{2} + 16}$$"
      ],
      "text/plain": [
       "   __________________\n",
       "  ╱  4       2       \n",
       "╲╱  ω  + 25⋅ω  + 144 \n",
       "─────────────────────\n",
       "        2            \n",
       "       ω  + 16       "
      ]
     },
     "execution_count": 17,
     "metadata": {},
     "output_type": "execute_result"
    }
   ],
   "source": [
    "A . magnitude"
   ]
  },
  {
   "cell_type": "markdown",
   "metadata": {},
   "source": [
    "Cada dominio tiene métodos específicos, que incluyen:\n",
    "\n",
    "* fourier - Convertir a dominio de Fourier\n",
    "* laplace - Convertir a dominio Laplace (s)\n",
    "* time - Convertir a dominio de tiempo\n",
    "\n",
    "Lcapy define una serie de funciones que se pueden usar en expresiones, que incluyen:\n",
    "\n",
    "* u – Heaviside’s escalón unitario\n",
    "* H – Heaviside’s escalón unitario\n",
    "* delta – delta de Dirac\n",
    "* cos – coseno\n",
    "* sin – seno\n",
    "* sqrt – raiz cuadrada\n",
    "* exp – exponencial\n",
    "* log10 – logaritmo base 10\n",
    "* log – logaritmo natural\n",
    "\n",
    "# Componentes de circuito simple"
   ]
  },
  {
   "cell_type": "markdown",
   "metadata": {},
   "source": [
    "Los componentes básicos del circuito son dispositivos de dos terminales (un puerto):\n",
    "\n",
    "* I - fuente de corriente\n",
    "* V - fuente de voltaje\n",
    "* R - resistencia\n",
    "* G - conductancia\n",
    "* C - capacitancia\n",
    "* L - inductancia\n",
    "\n",
    "Estos son extendidos por componentes genéricos de dominio s:\n",
    "\n",
    "* Y - admitancia\n",
    "* Z - impedancia\n",
    "\n",
    "Aquí hay algunos ejemplos de su creación:"
   ]
  },
  {
   "cell_type": "code",
   "execution_count": 2,
   "metadata": {},
   "outputs": [],
   "source": [
    "from  lcapy  import  * \n",
    "R1  =  R ( 10 ) \n",
    "C1  =  C ( 10e-6 ) \n",
    "L1  =  L ( 'L_1' )"
   ]
  },
  {
   "cell_type": "markdown",
   "metadata": {},
   "source": [
    "# Combinaciones simples de elementos de circuito \n",
    "\n",
    "Aquí hay un ejemplo de resistencias en serie:"
   ]
  },
  {
   "cell_type": "code",
   "execution_count": 21,
   "metadata": {},
   "outputs": [
    {
     "data": {
      "text/latex": [
       "$\\mathrm{R}(10) + \\mathrm{R}(5)$"
      ],
      "text/plain": [
       "R(10) + R(5)"
      ]
     },
     "execution_count": 21,
     "metadata": {},
     "output_type": "execute_result"
    }
   ],
   "source": [
    "R1  =  R ( 10 )\n",
    "R2  =  R ( 5 ) \n",
    "Rtot  =  R1  +  R2 \n",
    "Rtot "
   ]
  },
  {
   "cell_type": "code",
   "execution_count": 22,
   "metadata": {},
   "outputs": [
    {
     "data": {
      "text/latex": [
       "$\\mathrm{R}(15)$"
      ],
      "text/plain": [
       "R(15)"
      ]
     },
     "execution_count": 22,
     "metadata": {},
     "output_type": "execute_result"
    }
   ],
   "source": [
    "Rtot.simplify()"
   ]
  },
  {
   "cell_type": "markdown",
   "metadata": {},
   "source": [
    "Aquí R (10) crea una resistencia de 10 ohmios y esto se asigna a la variable R1 . Del mismo modo, R (5) crea una resistencia de 5 ohmios y esto se asigna a la variable R2 . Rtot es el nombre de la red formada al conectar R1 y R2 en serie. Llamando al simplificar método simplificará la red y combinar las resistencias en un único equivalente resistor.\n",
    "\n",
    "Aquí hay un ejemplo de una combinación paralela de resistencias. Tenga en cuenta que el operador paralelo es | en lugar de lo habitual ||"
   ]
  },
  {
   "cell_type": "code",
   "execution_count": 24,
   "metadata": {},
   "outputs": [
    {
     "data": {
      "text/latex": [
       "$\\mathrm{R}(10) | \\mathrm{R}(5)$"
      ],
      "text/plain": [
       "R(10) | R(5)"
      ]
     },
     "execution_count": 24,
     "metadata": {},
     "output_type": "execute_result"
    }
   ],
   "source": [
    "Rtot  =  R ( 10 )  |  R ( 5 ) \n",
    "Rtot"
   ]
  },
  {
   "cell_type": "code",
   "execution_count": 25,
   "metadata": {},
   "outputs": [
    {
     "data": {
      "text/latex": [
       "$\\mathrm{R}(\\frac{10}{3})$"
      ],
      "text/plain": [
       "R(10/3)"
      ]
     },
     "execution_count": 25,
     "metadata": {},
     "output_type": "execute_result"
    }
   ],
   "source": [
    "Rtot.simplify()"
   ]
  },
  {
   "cell_type": "markdown",
   "metadata": {},
   "source": [
    "El resultado se puede realizar simbólicamente, por ejemplo:\n",
    "\n"
   ]
  },
  {
   "cell_type": "code",
   "execution_count": 26,
   "metadata": {},
   "outputs": [
    {
     "data": {
      "text/latex": [
       "$\\mathrm{R}(R_{1}) | \\mathrm{R}(R_{2})$"
      ],
      "text/plain": [
       "R(R₁) | R(R₂)"
      ]
     },
     "execution_count": 26,
     "metadata": {},
     "output_type": "execute_result"
    }
   ],
   "source": [
    "Rtot  =  R ( 'R_1' )  |  R ( 'R_2' ) \n",
    "Rtot"
   ]
  },
  {
   "cell_type": "code",
   "execution_count": 28,
   "metadata": {},
   "outputs": [
    {
     "data": {
      "text/latex": [
       "$\\mathrm{R}(\\frac{R_{1} R_{2}}{R_{1} + R_{2}})$"
      ],
      "text/plain": [
       "R( R₁⋅R₂ \n",
       "───────\n",
       "R₁ + R₂)"
      ]
     },
     "execution_count": 28,
     "metadata": {},
     "output_type": "execute_result"
    }
   ],
   "source": [
    "Rtot . simplify () "
   ]
  },
  {
   "cell_type": "markdown",
   "metadata": {},
   "source": [
    "Aquí hay otro ejemplo usando inductores en serie"
   ]
  },
  {
   "cell_type": "code",
   "execution_count": 29,
   "metadata": {},
   "outputs": [
    {
     "data": {
      "text/latex": [
       "$\\mathrm{L}(10) + \\mathrm{L}(5)$"
      ],
      "text/plain": [
       "L(10) + L(5)"
      ]
     },
     "execution_count": 29,
     "metadata": {},
     "output_type": "execute_result"
    }
   ],
   "source": [
    "L1  =  L ( 10 ) \n",
    "L2  =  L ( 5 ) \n",
    "Ltot  =  L1  +  L2 \n",
    "Ltot "
   ]
  },
  {
   "cell_type": "code",
   "execution_count": 30,
   "metadata": {},
   "outputs": [
    {
     "data": {
      "text/latex": [
       "$\\mathrm{L}(15)$"
      ],
      "text/plain": [
       "L(15)"
      ]
     },
     "execution_count": 30,
     "metadata": {},
     "output_type": "execute_result"
    }
   ],
   "source": [
    "Ltot . simplify () "
   ]
  },
  {
   "cell_type": "markdown",
   "metadata": {},
   "source": [
    "Finalmente, aquí hay un ejemplo de una combinación paralela de condensadores\n"
   ]
  },
  {
   "cell_type": "code",
   "execution_count": 31,
   "metadata": {},
   "outputs": [
    {
     "data": {
      "text/latex": [
       "$\\mathrm{C}(10) | \\mathrm{C}(5)$"
      ],
      "text/plain": [
       "C(10) | C(5)"
      ]
     },
     "execution_count": 31,
     "metadata": {},
     "output_type": "execute_result"
    }
   ],
   "source": [
    "Ctot  =  C ( 10 )  |  C ( 5 ) \n",
    "Ctot "
   ]
  },
  {
   "cell_type": "code",
   "execution_count": 32,
   "metadata": {},
   "outputs": [
    {
     "data": {
      "text/latex": [
       "$\\mathrm{C}(15)$"
      ],
      "text/plain": [
       "C(15)"
      ]
     },
     "execution_count": 32,
     "metadata": {},
     "output_type": "execute_result"
    }
   ],
   "source": [
    "Ctot.simplify()"
   ]
  },
  {
   "cell_type": "markdown",
   "metadata": {},
   "source": [
    "# Impedancias \n",
    "\n",
    "Consideremos una red serie RLC\n",
    "\n"
   ]
  },
  {
   "cell_type": "code",
   "execution_count": 6,
   "metadata": {},
   "outputs": [
    {
     "data": {
      "text/latex": [
       "$\\mathrm{R}(4) + \\mathrm{L}(10) + \\mathrm{C}(20)$"
      ],
      "text/plain": [
       "R(4) + L(10) + C(20)"
      ]
     },
     "execution_count": 6,
     "metadata": {},
     "output_type": "execute_result"
    }
   ],
   "source": [
    "n  =  R ( 4 )  +  L ( 10 )  +  C ( 20 ) \n",
    "n "
   ]
  },
  {
   "cell_type": "code",
   "execution_count": 34,
   "metadata": {},
   "outputs": [
    {
     "data": {
      "text/latex": [
       "$$10 \\mathrm{j} \\omega + 4 - \\frac{\\mathrm{j}}{20 \\omega}$$"
      ],
      "text/plain": [
       "              ⅉ  \n",
       "10⋅ⅉ⋅ω + 4 - ────\n",
       "             20⋅ω"
      ]
     },
     "execution_count": 34,
     "metadata": {},
     "output_type": "execute_result"
    }
   ],
   "source": [
    "n . Z "
   ]
  },
  {
   "cell_type": "code",
   "execution_count": 35,
   "metadata": {},
   "outputs": [
    {
     "data": {
      "text/latex": [
       "$$10 s + 4 + \\frac{1}{20 s}$$"
      ],
      "text/plain": [
       "            1  \n",
       "10⋅s + 4 + ────\n",
       "           20⋅s"
      ]
     },
     "execution_count": 35,
     "metadata": {},
     "output_type": "execute_result"
    }
   ],
   "source": [
    "n . Zs "
   ]
  },
  {
   "cell_type": "markdown",
   "metadata": {},
   "source": [
    "Observe que el resultado es una función racional de s . Recuerde que la impedancia es un concepto de dominio de frecuencia. Una función racional se puede formatear de diferentes maneras, por ejemplo:"
   ]
  },
  {
   "cell_type": "code",
   "execution_count": 36,
   "metadata": {},
   "outputs": [
    {
     "data": {
      "text/latex": [
       "$$\\frac{10 \\left(s - \\frac{\\sqrt{14}}{20} + \\frac{1}{5}\\right) \\left(s + \\frac{\\sqrt{14}}{20} + \\frac{1}{5}\\right)}{s}$$"
      ],
      "text/plain": [
       "   ⎛    √14   1⎞ ⎛    √14   1⎞\n",
       "10⋅⎜s - ─── + ─⎟⋅⎜s + ─── + ─⎟\n",
       "   ⎝     20   5⎠ ⎝     20   5⎠\n",
       "──────────────────────────────\n",
       "              s               "
      ]
     },
     "execution_count": 36,
     "metadata": {},
     "output_type": "execute_result"
    }
   ],
   "source": [
    "n . Zs . ZPK ()"
   ]
  },
  {
   "cell_type": "code",
   "execution_count": 40,
   "metadata": {},
   "outputs": [
    {
     "data": {
      "text/latex": [
       "$$\\frac{10 s^{2} + 4 s + \\frac{1}{20}}{s}$$"
      ],
      "text/plain": [
       "    2         1 \n",
       "10⋅s  + 4⋅s + ──\n",
       "              20\n",
       "────────────────\n",
       "       s        "
      ]
     },
     "execution_count": 40,
     "metadata": {},
     "output_type": "execute_result"
    }
   ],
   "source": [
    "n . Zs . canonical () "
   ]
  },
  {
   "cell_type": "code",
   "execution_count": 41,
   "metadata": {},
   "outputs": [
    {
     "data": {
      "text/latex": [
       "$$\\frac{1}{10 s + 4 + \\frac{1}{20 s}}$$"
      ],
      "text/plain": [
       "       1       \n",
       "───────────────\n",
       "            1  \n",
       "10⋅s + 4 + ────\n",
       "           20⋅s"
      ]
     },
     "execution_count": 41,
     "metadata": {},
     "output_type": "execute_result"
    }
   ],
   "source": [
    "n.Ys"
   ]
  },
  {
   "cell_type": "markdown",
   "metadata": {},
   "source": [
    "Aquí ZPK () imprime la impedancia en forma ZPK (ganancia de polo cero) mientras que canonical () imprime la función racional como la suma de un polinomio y una función racional estrictamente adecuada.\n",
    "\n",
    "La red RLC paralela correspondiente produce"
   ]
  },
  {
   "cell_type": "code",
   "execution_count": 42,
   "metadata": {},
   "outputs": [
    {
     "data": {
      "text/latex": [
       "$\\mathrm{R}(5) | \\mathrm{L}(20) | \\mathrm{C}(10)$"
      ],
      "text/plain": [
       "R(5) | L(20) | C(10)"
      ]
     },
     "execution_count": 42,
     "metadata": {},
     "output_type": "execute_result"
    }
   ],
   "source": [
    "n = R(5) | L(20) | C(10)\n",
    "n"
   ]
  },
  {
   "cell_type": "code",
   "execution_count": 43,
   "metadata": {},
   "outputs": [
    {
     "data": {
      "text/latex": [
       "$$\\frac{1}{10 s + \\frac{1}{5} + \\frac{1}{20 s}}$$"
      ],
      "text/plain": [
       "       1       \n",
       "───────────────\n",
       "       1    1  \n",
       "10⋅s + ─ + ────\n",
       "       5   20⋅s"
      ]
     },
     "execution_count": 43,
     "metadata": {},
     "output_type": "execute_result"
    }
   ],
   "source": [
    "n.Zs"
   ]
  },
  {
   "cell_type": "code",
   "execution_count": 44,
   "metadata": {},
   "outputs": [
    {
     "data": {
      "text/latex": [
       "$$\\frac{s}{10 \\left(s + \\frac{1}{100} - \\frac{7 \\mathrm{j}}{100}\\right) \\left(s + \\frac{1}{100} + \\frac{7 \\mathrm{j}}{100}\\right)}$$"
      ],
      "text/plain": [
       "                s                 \n",
       "──────────────────────────────────\n",
       "   ⎛     1    7⋅ⅉ⎞ ⎛     1    7⋅ⅉ⎞\n",
       "10⋅⎜s + ─── - ───⎟⋅⎜s + ─── + ───⎟\n",
       "   ⎝    100   100⎠ ⎝    100   100⎠"
      ]
     },
     "execution_count": 44,
     "metadata": {},
     "output_type": "execute_result"
    }
   ],
   "source": [
    "n.Zs.ZPK()"
   ]
  },
  {
   "cell_type": "code",
   "execution_count": 45,
   "metadata": {},
   "outputs": [
    {
     "data": {
      "text/latex": [
       "$$10 s + \\frac{1}{5} + \\frac{1}{20 s}$$"
      ],
      "text/plain": [
       "       1    1  \n",
       "10⋅s + ─ + ────\n",
       "       5   20⋅s"
      ]
     },
     "execution_count": 45,
     "metadata": {},
     "output_type": "execute_result"
    }
   ],
   "source": [
    "n.Ys"
   ]
  },
  {
   "cell_type": "markdown",
   "metadata": {},
   "source": [
    "Observe cómo n.Ys devuelve el dominio s admisión de la red, el recíproco de la impedancia n.Zs .\n",
    "\n",
    "La respuesta de frecuencia puede evaluarse numéricamente especificando un vector de valores de frecuencia. Por ejemplo:"
   ]
  },
  {
   "cell_type": "code",
   "execution_count": 3,
   "metadata": {},
   "outputs": [
    {
     "ename": "ValueError",
     "evalue": "Cannot Fourier transform for expression Piecewise((4*exp(-t/50), t >= 0)) that is unknown for t < 0",
     "output_type": "error",
     "traceback": [
      "\u001b[0;31m---------------------------------------------------------------------------\u001b[0m",
      "\u001b[0;31mValueError\u001b[0m                                Traceback (most recent call last)",
      "\u001b[0;32m<ipython-input-3-be8033ccfca7>\u001b[0m in \u001b[0;36m<module>\u001b[0;34m\u001b[0m\n\u001b[1;32m      3\u001b[0m \u001b[0mn\u001b[0m \u001b[0;34m=\u001b[0m \u001b[0mVstep\u001b[0m\u001b[0;34m(\u001b[0m\u001b[0;36m20\u001b[0m\u001b[0;34m)\u001b[0m \u001b[0;34m+\u001b[0m \u001b[0mR\u001b[0m\u001b[0;34m(\u001b[0m\u001b[0;36m5\u001b[0m\u001b[0;34m)\u001b[0m \u001b[0;34m+\u001b[0m \u001b[0mC\u001b[0m\u001b[0;34m(\u001b[0m\u001b[0;36m10\u001b[0m\u001b[0;34m,\u001b[0m \u001b[0;36m0\u001b[0m\u001b[0;34m)\u001b[0m\u001b[0;34m\u001b[0m\u001b[0;34m\u001b[0m\u001b[0m\n\u001b[1;32m      4\u001b[0m \u001b[0mvf\u001b[0m \u001b[0;34m=\u001b[0m \u001b[0mlinspace\u001b[0m\u001b[0;34m(\u001b[0m\u001b[0;36m0\u001b[0m\u001b[0;34m,\u001b[0m \u001b[0;36m4\u001b[0m\u001b[0;34m,\u001b[0m \u001b[0;36m400\u001b[0m\u001b[0;34m)\u001b[0m\u001b[0;34m\u001b[0m\u001b[0;34m\u001b[0m\u001b[0m\n\u001b[0;32m----> 5\u001b[0;31m \u001b[0mn\u001b[0m\u001b[0;34m.\u001b[0m\u001b[0mIsc\u001b[0m\u001b[0;34m(\u001b[0m\u001b[0mf\u001b[0m\u001b[0;34m)\u001b[0m\u001b[0;34m\u001b[0m\u001b[0;34m\u001b[0m\u001b[0m\n\u001b[0m",
      "\u001b[0;32m~/anaconda3/lib/python3.7/site-packages/lcapy/super.py\u001b[0m in \u001b[0;36m__call__\u001b[0;34m(self, arg, **assumptions)\u001b[0m\n\u001b[1;32m    228\u001b[0m \u001b[0;34m\u001b[0m\u001b[0m\n\u001b[1;32m    229\u001b[0m         \u001b[0;32mfrom\u001b[0m \u001b[0;34m.\u001b[0m\u001b[0mtransform\u001b[0m \u001b[0;32mimport\u001b[0m \u001b[0mcall\u001b[0m\u001b[0;34m\u001b[0m\u001b[0;34m\u001b[0m\u001b[0m\n\u001b[0;32m--> 230\u001b[0;31m         \u001b[0;32mreturn\u001b[0m \u001b[0mcall\u001b[0m\u001b[0;34m(\u001b[0m\u001b[0mself\u001b[0m\u001b[0;34m,\u001b[0m \u001b[0marg\u001b[0m\u001b[0;34m,\u001b[0m \u001b[0;34m**\u001b[0m\u001b[0massumptions\u001b[0m\u001b[0;34m)\u001b[0m\u001b[0;34m\u001b[0m\u001b[0;34m\u001b[0m\u001b[0m\n\u001b[0m\u001b[1;32m    231\u001b[0m \u001b[0;34m\u001b[0m\u001b[0m\n\u001b[1;32m    232\u001b[0m     \u001b[0;32mdef\u001b[0m \u001b[0msubs\u001b[0m\u001b[0;34m(\u001b[0m\u001b[0mself\u001b[0m\u001b[0;34m,\u001b[0m \u001b[0;34m*\u001b[0m\u001b[0margs\u001b[0m\u001b[0;34m,\u001b[0m \u001b[0;34m**\u001b[0m\u001b[0mkwargs\u001b[0m\u001b[0;34m)\u001b[0m\u001b[0;34m:\u001b[0m\u001b[0;34m\u001b[0m\u001b[0;34m\u001b[0m\u001b[0m\n",
      "\u001b[0;32m~/anaconda3/lib/python3.7/site-packages/lcapy/transform.py\u001b[0m in \u001b[0;36mcall\u001b[0;34m(expr, arg, **assumptions)\u001b[0m\n\u001b[1;32m     81\u001b[0m \u001b[0;34m\u001b[0m\u001b[0m\n\u001b[1;32m     82\u001b[0m     \u001b[0;32mif\u001b[0m \u001b[0mid\u001b[0m\u001b[0;34m(\u001b[0m\u001b[0marg\u001b[0m\u001b[0;34m)\u001b[0m \u001b[0;32min\u001b[0m \u001b[0;34m(\u001b[0m\u001b[0mid\u001b[0m\u001b[0;34m(\u001b[0m\u001b[0mf\u001b[0m\u001b[0;34m)\u001b[0m\u001b[0;34m,\u001b[0m \u001b[0mid\u001b[0m\u001b[0;34m(\u001b[0m\u001b[0ms\u001b[0m\u001b[0;34m)\u001b[0m\u001b[0;34m,\u001b[0m \u001b[0mid\u001b[0m\u001b[0;34m(\u001b[0m\u001b[0mt\u001b[0m\u001b[0;34m)\u001b[0m\u001b[0;34m,\u001b[0m \u001b[0mid\u001b[0m\u001b[0;34m(\u001b[0m\u001b[0momega\u001b[0m\u001b[0;34m)\u001b[0m\u001b[0;34m,\u001b[0m \u001b[0mid\u001b[0m\u001b[0;34m(\u001b[0m\u001b[0mjomega\u001b[0m\u001b[0;34m)\u001b[0m\u001b[0;34m)\u001b[0m\u001b[0;34m:\u001b[0m\u001b[0;34m\u001b[0m\u001b[0;34m\u001b[0m\u001b[0m\n\u001b[0;32m---> 83\u001b[0;31m         \u001b[0;32mreturn\u001b[0m \u001b[0mtransform\u001b[0m\u001b[0;34m(\u001b[0m\u001b[0mexpr\u001b[0m\u001b[0;34m,\u001b[0m \u001b[0marg\u001b[0m\u001b[0;34m,\u001b[0m \u001b[0;34m**\u001b[0m\u001b[0massumptions\u001b[0m\u001b[0;34m)\u001b[0m\u001b[0;34m\u001b[0m\u001b[0;34m\u001b[0m\u001b[0m\n\u001b[0m\u001b[1;32m     84\u001b[0m \u001b[0;34m\u001b[0m\u001b[0m\n\u001b[1;32m     85\u001b[0m     \u001b[0;32mif\u001b[0m \u001b[0marg\u001b[0m \u001b[0;32min\u001b[0m \u001b[0;34m(\u001b[0m\u001b[0mf\u001b[0m\u001b[0;34m,\u001b[0m \u001b[0ms\u001b[0m\u001b[0;34m,\u001b[0m \u001b[0mt\u001b[0m\u001b[0;34m,\u001b[0m \u001b[0momega\u001b[0m\u001b[0;34m,\u001b[0m \u001b[0mjomega\u001b[0m\u001b[0;34m)\u001b[0m\u001b[0;34m:\u001b[0m\u001b[0;34m\u001b[0m\u001b[0;34m\u001b[0m\u001b[0m\n",
      "\u001b[0;32m~/anaconda3/lib/python3.7/site-packages/lcapy/transform.py\u001b[0m in \u001b[0;36mtransform\u001b[0;34m(expr, arg, **assumptions)\u001b[0m\n\u001b[1;32m     30\u001b[0m             \u001b[0;32mreturn\u001b[0m \u001b[0mexpr\u001b[0m\u001b[0;34m.\u001b[0m\u001b[0msubs\u001b[0m\u001b[0;34m(\u001b[0m\u001b[0;36m2\u001b[0m \u001b[0;34m*\u001b[0m \u001b[0mpi\u001b[0m \u001b[0;34m*\u001b[0m \u001b[0mf\u001b[0m\u001b[0;34m)\u001b[0m\u001b[0;34m\u001b[0m\u001b[0;34m\u001b[0m\u001b[0m\n\u001b[1;32m     31\u001b[0m         \u001b[0;32melse\u001b[0m\u001b[0;34m:\u001b[0m\u001b[0;34m\u001b[0m\u001b[0;34m\u001b[0m\u001b[0m\n\u001b[0;32m---> 32\u001b[0;31m             \u001b[0;32mreturn\u001b[0m \u001b[0mexpr\u001b[0m\u001b[0;34m.\u001b[0m\u001b[0mfourier\u001b[0m\u001b[0;34m(\u001b[0m\u001b[0;34m**\u001b[0m\u001b[0massumptions\u001b[0m\u001b[0;34m)\u001b[0m\u001b[0;34m\u001b[0m\u001b[0;34m\u001b[0m\u001b[0m\n\u001b[0m\u001b[1;32m     33\u001b[0m \u001b[0;34m\u001b[0m\u001b[0m\n\u001b[1;32m     34\u001b[0m     \u001b[0;31m# Handle expr(texpr), expr(sexpr), expr(fexpr).  For example,\u001b[0m\u001b[0;34m\u001b[0m\u001b[0;34m\u001b[0m\u001b[0;34m\u001b[0m\u001b[0m\n",
      "\u001b[0;32m~/anaconda3/lib/python3.7/site-packages/lcapy/super.py\u001b[0m in \u001b[0;36mfourier\u001b[0;34m(self, **assumptions)\u001b[0m\n\u001b[1;32m    612\u001b[0m \u001b[0;34m\u001b[0m\u001b[0m\n\u001b[1;32m    613\u001b[0m         \u001b[0;31m# TODO, could optimise.\u001b[0m\u001b[0;34m\u001b[0m\u001b[0;34m\u001b[0m\u001b[0;34m\u001b[0m\u001b[0m\n\u001b[0;32m--> 614\u001b[0;31m         \u001b[0;32mreturn\u001b[0m \u001b[0mself\u001b[0m\u001b[0;34m.\u001b[0m\u001b[0mtime\u001b[0m\u001b[0;34m(\u001b[0m\u001b[0;34m**\u001b[0m\u001b[0massumptions\u001b[0m\u001b[0;34m)\u001b[0m\u001b[0;34m.\u001b[0m\u001b[0mfourier\u001b[0m\u001b[0;34m(\u001b[0m\u001b[0;34m**\u001b[0m\u001b[0massumptions\u001b[0m\u001b[0;34m)\u001b[0m\u001b[0;34m\u001b[0m\u001b[0;34m\u001b[0m\u001b[0m\n\u001b[0m\u001b[1;32m    615\u001b[0m \u001b[0;34m\u001b[0m\u001b[0m\n\u001b[1;32m    616\u001b[0m     \u001b[0;32mdef\u001b[0m \u001b[0mcanonical\u001b[0m\u001b[0;34m(\u001b[0m\u001b[0mself\u001b[0m\u001b[0;34m)\u001b[0m\u001b[0;34m:\u001b[0m\u001b[0;34m\u001b[0m\u001b[0;34m\u001b[0m\u001b[0m\n",
      "\u001b[0;32m~/anaconda3/lib/python3.7/site-packages/lcapy/texpr.py\u001b[0m in \u001b[0;36mfourier\u001b[0;34m(self, **assumptions)\u001b[0m\n\u001b[1;32m     82\u001b[0m         \u001b[0massumptions\u001b[0m \u001b[0;34m=\u001b[0m \u001b[0mself\u001b[0m\u001b[0;34m.\u001b[0m\u001b[0mmerge_assumptions\u001b[0m\u001b[0;34m(\u001b[0m\u001b[0;34m**\u001b[0m\u001b[0massumptions\u001b[0m\u001b[0;34m)\u001b[0m\u001b[0;34m\u001b[0m\u001b[0;34m\u001b[0m\u001b[0m\n\u001b[1;32m     83\u001b[0m \u001b[0;34m\u001b[0m\u001b[0m\n\u001b[0;32m---> 84\u001b[0;31m         \u001b[0mresult\u001b[0m \u001b[0;34m=\u001b[0m \u001b[0mfourier_transform\u001b[0m\u001b[0;34m(\u001b[0m\u001b[0mself\u001b[0m\u001b[0;34m.\u001b[0m\u001b[0mexpr\u001b[0m\u001b[0;34m,\u001b[0m \u001b[0mself\u001b[0m\u001b[0;34m.\u001b[0m\u001b[0mvar\u001b[0m\u001b[0;34m,\u001b[0m \u001b[0mfsym\u001b[0m\u001b[0;34m)\u001b[0m\u001b[0;34m\u001b[0m\u001b[0;34m\u001b[0m\u001b[0m\n\u001b[0m\u001b[1;32m     85\u001b[0m \u001b[0;34m\u001b[0m\u001b[0m\n\u001b[1;32m     86\u001b[0m         \u001b[0;32mif\u001b[0m \u001b[0mhasattr\u001b[0m\u001b[0;34m(\u001b[0m\u001b[0mself\u001b[0m\u001b[0;34m,\u001b[0m \u001b[0;34m'_fourier_conjugate_class'\u001b[0m\u001b[0;34m)\u001b[0m\u001b[0;34m:\u001b[0m\u001b[0;34m\u001b[0m\u001b[0;34m\u001b[0m\u001b[0m\n",
      "\u001b[0;32m~/anaconda3/lib/python3.7/site-packages/lcapy/fourier.py\u001b[0m in \u001b[0;36mfourier_transform\u001b[0;34m(expr, t, f, inverse)\u001b[0m\n\u001b[1;32m    205\u001b[0m \u001b[0;34m\u001b[0m\u001b[0m\n\u001b[1;32m    206\u001b[0m     \u001b[0;32mif\u001b[0m \u001b[0mexpr\u001b[0m\u001b[0;34m.\u001b[0m\u001b[0mis_Piecewise\u001b[0m \u001b[0;32mand\u001b[0m \u001b[0mexpr\u001b[0m\u001b[0;34m.\u001b[0m\u001b[0margs\u001b[0m\u001b[0;34m[\u001b[0m\u001b[0;36m0\u001b[0m\u001b[0;34m]\u001b[0m\u001b[0;34m.\u001b[0m\u001b[0margs\u001b[0m\u001b[0;34m[\u001b[0m\u001b[0;36m1\u001b[0m\u001b[0;34m]\u001b[0m\u001b[0;34m.\u001b[0m\u001b[0mhas\u001b[0m\u001b[0;34m(\u001b[0m\u001b[0mt\u001b[0m \u001b[0;34m>=\u001b[0m \u001b[0;36m0\u001b[0m\u001b[0;34m)\u001b[0m\u001b[0;34m:\u001b[0m\u001b[0;34m\u001b[0m\u001b[0;34m\u001b[0m\u001b[0m\n\u001b[0;32m--> 207\u001b[0;31m         \u001b[0;32mraise\u001b[0m \u001b[0mValueError\u001b[0m\u001b[0;34m(\u001b[0m\u001b[0;34m'Cannot Fourier transform for expression %s that is unknown for t < 0'\u001b[0m \u001b[0;34m%\u001b[0m \u001b[0mexpr\u001b[0m\u001b[0;34m)\u001b[0m\u001b[0;34m\u001b[0m\u001b[0;34m\u001b[0m\u001b[0m\n\u001b[0m\u001b[1;32m    208\u001b[0m \u001b[0;34m\u001b[0m\u001b[0m\n\u001b[1;32m    209\u001b[0m     \u001b[0;32mif\u001b[0m \u001b[0minverse\u001b[0m\u001b[0;34m:\u001b[0m\u001b[0;34m\u001b[0m\u001b[0;34m\u001b[0m\u001b[0m\n",
      "\u001b[0;31mValueError\u001b[0m: Cannot Fourier transform for expression Piecewise((4*exp(-t/50), t >= 0)) that is unknown for t < 0"
     ]
    }
   ],
   "source": [
    "from lcapy import *\n",
    "from numpy import linspace\n",
    "n = Vstep(20) + R(5) + C(10, 0)\n",
    "vf = linspace(0, 4, 400)\n",
    "n.Isc(f)"
   ]
  },
  {
   "cell_type": "code",
   "execution_count": 2,
   "metadata": {},
   "outputs": [
    {
     "ename": "NameError",
     "evalue": "name 'Isc' is not defined",
     "output_type": "error",
     "traceback": [
      "\u001b[0;31m---------------------------------------------------------------------------\u001b[0m",
      "\u001b[0;31mNameError\u001b[0m                                 Traceback (most recent call last)",
      "\u001b[0;32m<ipython-input-2-f717dced47d2>\u001b[0m in \u001b[0;36m<module>\u001b[0;34m\u001b[0m\n\u001b[1;32m      2\u001b[0m \u001b[0mfig\u001b[0m \u001b[0;34m=\u001b[0m \u001b[0mfigure\u001b[0m\u001b[0;34m(\u001b[0m\u001b[0;34m)\u001b[0m\u001b[0;34m\u001b[0m\u001b[0;34m\u001b[0m\u001b[0m\n\u001b[1;32m      3\u001b[0m \u001b[0max\u001b[0m \u001b[0;34m=\u001b[0m \u001b[0mfig\u001b[0m\u001b[0;34m.\u001b[0m\u001b[0madd_subplot\u001b[0m\u001b[0;34m(\u001b[0m\u001b[0;36m111\u001b[0m\u001b[0;34m)\u001b[0m\u001b[0;34m\u001b[0m\u001b[0;34m\u001b[0m\u001b[0m\n\u001b[0;32m----> 4\u001b[0;31m \u001b[0max\u001b[0m\u001b[0;34m.\u001b[0m\u001b[0mloglog\u001b[0m\u001b[0;34m(\u001b[0m\u001b[0mf\u001b[0m\u001b[0;34m,\u001b[0m \u001b[0mabs\u001b[0m\u001b[0;34m(\u001b[0m\u001b[0mIsc\u001b[0m\u001b[0;34m)\u001b[0m\u001b[0;34m,\u001b[0m \u001b[0mlinewidth\u001b[0m\u001b[0;34m=\u001b[0m\u001b[0;36m2\u001b[0m\u001b[0;34m)\u001b[0m\u001b[0;34m\u001b[0m\u001b[0;34m\u001b[0m\u001b[0m\n\u001b[0m\u001b[1;32m      5\u001b[0m \u001b[0max\u001b[0m\u001b[0;34m.\u001b[0m\u001b[0mset_xlabel\u001b[0m\u001b[0;34m(\u001b[0m\u001b[0;34m'Frequency (Hz)'\u001b[0m\u001b[0;34m)\u001b[0m\u001b[0;34m\u001b[0m\u001b[0;34m\u001b[0m\u001b[0m\n\u001b[1;32m      6\u001b[0m \u001b[0max\u001b[0m\u001b[0;34m.\u001b[0m\u001b[0mset_ylabel\u001b[0m\u001b[0;34m(\u001b[0m\u001b[0;34m'Current (A/Hz)'\u001b[0m\u001b[0;34m)\u001b[0m\u001b[0;34m\u001b[0m\u001b[0;34m\u001b[0m\u001b[0m\n",
      "\u001b[0;31mNameError\u001b[0m: name 'Isc' is not defined"
     ]
    },
    {
     "data": {
      "image/png": "[encoded data removed]",
      "text/plain": [
       "<Figure size 432x288 with 1 Axes>"
      ]
     },
     "metadata": {
      "needs_background": "light"
     },
     "output_type": "display_data"
    }
   ],
   "source": [
    "from matplotlib.pyplot import figure, show\n",
    "fig = figure()\n",
    "ax = fig.add_subplot(111)\n",
    "ax.loglog(f, abs(Isc), linewidth=2)\n",
    "ax.set_xlabel('Frequency (Hz)')\n",
    "ax.set_ylabel('Current (A/Hz)')\n",
    "ax.grid(True)\n",
    "show()"
   ]
  },
  {
   "cell_type": "code",
   "execution_count": null,
   "metadata": {},
   "outputs": [],
   "source": []
  }
 ],
 "metadata": {
  "kernelspec": {
   "display_name": "Python 3",
   "language": "python",
   "name": "python3"
  },
  "language_info": {
   "codemirror_mode": {
    "name": "ipython",
    "version": 3
   },
   "file_extension": ".py",
   "mimetype": "text/x-python",
   "name": "python",
   "nbconvert_exporter": "python",
   "pygments_lexer": "ipython3",
   "version": "3.7.6"
  }
 },
 "nbformat": 4,
 "nbformat_minor": 4
}
