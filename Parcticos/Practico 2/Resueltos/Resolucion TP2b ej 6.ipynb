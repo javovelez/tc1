{
 "cells": [
  {
   "cell_type": "markdown",
   "metadata": {},
   "source": [
    "$$Z_a=(10+jX_L)\\Omega$$\n",
    "$$Z_b=(5-j10)\\Omega$$\n",
    "\n",
    "$$Y_a=\\frac{1}{Z_a}=\\frac{1}{10+jX_L}S=\\frac{10-jX_L}{100+{X_L}^2}S=\\frac{10}{100+{X_L}^2}S-j\\frac{X_L}{100+{X_L}^2}S$$\n",
    "\n",
    "$$Y_b=\\frac{1}{Z_b}=\\frac{1}{5-j10}S=\\frac{5+j10}{25+100}S=\\frac{5}{125}S+j\\frac{10}{125}S$$\n",
    "La admitancia total es:\n",
    "\n",
    "$$Y_T=Y_a+Y_b=\\frac{10}{100+{X_L}^2}S-j\\frac{X_L}{100+{X_L}^2}S+\\frac{5}{125}+j\\frac{10}{125}S$$\n",
    "\n",
    "$$Y_T=\\frac{10}{100+{X_L}^2}S+\\frac{5}{125}S+j\\left\\lbrace\\frac{-X_L}{100+{X_L}^2}+\\frac{10}{125}\\right\\rbrace S$$\n",
    "\n",
    "Vemos que la admitancia es función de $X_L$. EL lugar geométrico de la admitancia es la curva que obtenemos en el plano imaginario al evaluar la ecuación de la admitancia para todo $X_L$ posible (debe ser mayor que $0\\Omega$ para que sea reactancia inductiva sino pasaría a ser reactancia capacitiva).\n",
    "\n",
    "Los valores extremos del lugar geométrico son:\n",
    "\n",
    "Si $X_L=0$ la parte real de la admitancia (conductancia G) vale $0,14S$ y la parte imaginaria (susceptancia  B) $0,08S$\n",
    "\n",
    "Si $X_L=\\infty$ la parte real de la admitancia (conductancia G) vale $0,04S$ y la parte imaginaria (susceptancia B) $0,08S$\n",
    "\n",
    "Fijate que estos son los valores extremos del lugar geométrico que obtuviste.\n",
    "\n",
    "Si le das valores intermedios a $X_L$ $(0<X_L<\\infty)$ obtenés los valores intermedios del lugar geométrico.\n",
    "\n",
    "Al no existir un valor de $X_L$ que produzca que la parte imaginaria de la admitancia se anule, no es es posible que este circuito entre en resonancia."
   ]
  },
  {
   "cell_type": "code",
   "execution_count": 26,
   "metadata": {},
   "outputs": [
    {
     "data": {
      "text/plain": [
       "0.0400009999900001"
      ]
     },
     "execution_count": 26,
     "metadata": {},
     "output_type": "execute_result"
    }
   ],
   "source": []
  },
  {
   "cell_type": "code",
   "execution_count": null,
   "metadata": {},
   "outputs": [],
   "source": []
  }
 ],
 "metadata": {
  "kernelspec": {
   "display_name": "Python 3",
   "language": "python",
   "name": "python3"
  },
  "language_info": {
   "codemirror_mode": {
    "name": "ipython",
    "version": 3
   },
   "file_extension": ".py",
   "mimetype": "text/x-python",
   "name": "python",
   "nbconvert_exporter": "python",
   "pygments_lexer": "ipython3",
   "version": "3.6.9"
  }
 },
 "nbformat": 4,
 "nbformat_minor": 4
}
