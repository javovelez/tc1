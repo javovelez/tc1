{
 "cells": [
  {
   "cell_type": "markdown",
   "metadata": {},
   "source": [
    "Respuestas TP3 Cuadripolos.\n"
   ]
  },
  {
   "cell_type": "markdown",
   "metadata": {},
   "source": [
    "1) $Y_{11}=Y_A+Y_B$;    $Y_{12}=-Y_B$; $Y_{21}= -Y_B$; $Y_{22}=Y_C+Y_B$\n",
    "\n",
    "2) $Z_{11}=\\frac{Y_B+Y_C}{Y_A\\times Y_B+Y_B\\times Y_C+Y_C\\times Y_A}$;    $Z_{12}=$; $Z_{21}= $; $Z_{22}=\\frac{Y_A+Y_B}{Y_\\times Y_B+Y_B\\times Y_C+Y_C\\times Y_A}$\n",
    "3)"
   ]
  },
  {
   "cell_type": "markdown",
   "metadata": {},
   "source": []
  }
 ],
 "metadata": {
  "hide_input": false,
  "kernelspec": {
   "display_name": "Python 3",
   "language": "python",
   "name": "python3"
  },
  "language_info": {
   "codemirror_mode": {
    "name": "ipython",
    "version": 3
   },
   "file_extension": ".py",
   "mimetype": "text/x-python",
   "name": "python",
   "nbconvert_exporter": "python",
   "pygments_lexer": "ipython3",
   "version": "3.6.9"
  }
 },
 "nbformat": 4,
 "nbformat_minor": 4
}
