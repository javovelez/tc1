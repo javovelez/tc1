{
 "cells": [
  {
   "cell_type": "markdown",
   "metadata": {},
   "source": [
    "# Resolución ejercicio 12 (TP4)\n",
    "\n",
    "\n",
    "Al encontrarse la sección de la derecha del circuito  en régimen permamente $(t<0)$, el capacitor se comporta como un circuito abierto y el inductor como un corto-circuito. Se observa entonces que la corriente en el inductor es $I_0=\\frac{9V}{3k\\Omega}=3mA$. Este será el valor de carga del inductor para $t=0$ cuando el interruptor conmute.\n",
    "\n"
   ]
  },
  {
   "cell_type": "markdown",
   "metadata": {},
   "source": [
    "<img src=\"TP4EJ12.png\">"
   ]
  },
  {
   "cell_type": "markdown",
   "metadata": {},
   "source": [
    "Graficaremos nuevamente el circuito para $t>0$ (con el interruptor cerrado) para desarrollar con más claridad.\n",
    "\n",
    "Para ello transformasmos la fuente de $9V$ y con la resistencia de $3k\\Omega$ en serie a una fuente de conrriente de $3mA$ con una resistencia de $3k\\Omega$ en paralelo. Luego calculamos el paralelo de las resistencias de $2k\\Omega$ y $6k\\Omega$ y agrupamos las fuentes de corriente obteniendo el siguiente circuito:"
   ]
  },
  {
   "cell_type": "code",
   "execution_count": 14,
   "metadata": {
    "code_folding": [
     0
    ]
   },
   "outputs": [
    {
     "data": {
      "image/png": "[encoded data removed]"
     },
     "metadata": {
      "image/png": {
       "height": 120,
       "width": 468
      }
     },
     "output_type": "display_data"
    }
   ],
   "source": [
    "#\n",
    "import lcapy as ly\n",
    "\n",
    "c1=ly.Circuit()\n",
    "\n",
    "c1.add(\"\"\"\n",
    "I _1 _0; down,  l={$9mA$}\n",
    "W1 _1 _1b; right\n",
    "R _1b _0b; down , l={$2k\\Omega$}\n",
    "W2 _0b _0; left\n",
    "W3 _1b _1c; right\n",
    "L _1c _0c; down, l={$62.5Hy$}, i={i_{L}(t)}\n",
    "W4 _0c _0b; left\n",
    "W5 _1c _1d;right\n",
    "C _1d _0d; down, l={$2.5\\micro F$}\n",
    "W6 _0d _0c;left\n",
    "\n",
    "\"\"\")\n",
    "\n",
    "c1.draw()"
   ]
  },
  {
   "cell_type": "markdown",
   "metadata": {},
   "source": [
    "Donde debemos tener en cuenta que la carga inicial en el inductor es $I_0=3mA$\n",
    "\n",
    "Al ser un circuito de segundo orden debemos calcular $\\alpha$ y $\\omega_0$\n",
    "\n",
    "$\\alpha=\\frac{1}{2RC}=\\boxed{100\\frac{1}{s}}$ y $\\omega_0=\\frac{1}{\\sqrt{LC}}=\\boxed{80\\frac{rad}{s}}$\n",
    "\n",
    "Entonces al ser $\\alpha>\\omega$ la respuesta del circuito será **sobre-amortiguada** y tendrá la siguiente forma:\n",
    "\n",
    "$i_L(t)=(A_1 e^{D_1t}+A_2e^{D_2t}+A3)U(t)$ (1)\n",
    "\n",
    "donde \n",
    "\n",
    "$D_{1}=-\\alpha+\\sqrt{\\alpha^2-\\omega_0^2}=-40\\frac{1}{s}$\n",
    "\n",
    "$D_{2}=-\\alpha-\\sqrt{\\alpha^2-\\omega_0^2}=-160\\frac{1}{s}$\n",
    "\n",
    "El término $A_3$ describe la respuesta forzada por la fuente de corriente continua e indica el valor que tomará la corriente en el inductor para $t=\\infty$. Por inspección del circuito, la corriente en el inductor para $t=\\infty$ será $i_L(\\infty)=9mA= A_3$ ya que el inductor se comportará como un cortocircuito y los $9mA$ de la fuente de corriente circularán por el inductor\n",
    "\n",
    "Plantearemos entonces el circuito para $t=0$"
   ]
  },
  {
   "cell_type": "code",
   "execution_count": 21,
   "metadata": {
    "code_folding": [
     0
    ]
   },
   "outputs": [
    {
     "data": {
      "image/png": "[encoded data removed]"
     },
     "metadata": {
      "image/png": {
       "height": 120,
       "width": 382
      }
     },
     "output_type": "display_data"
    }
   ],
   "source": [
    "#\n",
    "c2=ly.Circuit()\n",
    "c2.add(\"\"\"\n",
    "I _1 _0; down,  l={$9mA$}\n",
    "W1 _1 _1b; right\n",
    "R _1b _0b; down , l={$2k\\Omega$}\n",
    "W2 _0b _0; left\n",
    "W3 _1b _1c; right\n",
    "I2  _0c _1c; up, l={$3mA$}, i={i_{L}(0)}\n",
    "W4 _0c _0b; left\n",
    "W5 _1c _1d;right\n",
    "W7 _1d _0d; down\n",
    "W6 _0d _0c;left\n",
    "\n",
    "\"\"\")\n",
    "\n",
    "c2.draw()"
   ]
  },
  {
   "cell_type": "markdown",
   "metadata": {},
   "source": [
    "La corriente en el inductor es $3mA$ por lo que la ecuación (1) queda  $i_L(0)=A_1 +A_2+9mA=3mA$ o reagrupando\n",
    "\n",
    "$i_L(0)=A_1 +A_2=-6mA$  (2)\n",
    "\n",
    "Necesitamos una segunda ecuación para poder calcular $A_1$ y $A_2$. Esta se obtiene a partir de la derivada de (1) y del análisis del circuito para $t=0$.\n",
    "\n",
    "La deribada de (1) evaluada en $t=0$ es \n",
    "\n",
    "$\\left.\\frac{di_L(t)}{dt}\\right|_{t=0}=A_1D_1e^0+A_2D_2e^0+9mA$ (3)\n",
    "\n",
    "Ahora debemos igualar esta ecuación a algo que surja del circuito en $t=0$. Como la tensión en el inductor es $v_L(t)=L \\frac{di_L(t)}{dt}$ podemos escribir $\\frac{di_L(t)}{dt}=\\frac{v_L(0)}{L}$. La tensión en el inductor para $t=0$ es $v_L(0)=0V$ ya que está en paralelo con el corto-circuito que representa el capacitor en $t=0$.\n",
    "\n",
    "La ecuación (3) queda: \n",
    "\n",
    "$A_1D_1+A_2D_2=-9mA$ (4)\n",
    "\n",
    "Resolviendo el sistema de ecuaciones compuesto por (2) y (4) podemos calcular $A_1$ y $A_2$.\n",
    "\n",
    "El resultado de la corriente en el inductor es \n",
    "\n",
    "$\\boxed{i_L(t)=(-8,08mAe^{-40t}+2,08mAe^{-160t}+9mA)U(t)}$"
   ]
  }
 ],
 "metadata": {
  "kernelspec": {
   "display_name": "Python 3",
   "language": "python",
   "name": "python3"
  },
  "language_info": {
   "codemirror_mode": {
    "name": "ipython",
    "version": 3
   },
   "file_extension": ".py",
   "mimetype": "text/x-python",
   "name": "python",
   "nbconvert_exporter": "python",
   "pygments_lexer": "ipython3",
   "version": "3.7.7"
  }
 },
 "nbformat": 4,
 "nbformat_minor": 4
}
